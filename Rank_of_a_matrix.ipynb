{
  "nbformat": 4,
  "nbformat_minor": 0,
  "metadata": {
    "colab": {
      "name": "Rank of a matrix.ipynb",
      "provenance": [],
      "authorship_tag": "ABX9TyMfrYyHEIVNdmnPAvoEZBkE",
      "include_colab_link": true
    },
    "kernelspec": {
      "name": "python3",
      "display_name": "Python 3"
    },
    "language_info": {
      "name": "python"
    }
  },
  "cells": [
    {
      "cell_type": "markdown",
      "metadata": {
        "id": "view-in-github",
        "colab_type": "text"
      },
      "source": [
        "<a href=\"https://colab.research.google.com/github/Aatmaj-Zephyr/Rank-of-a-matrix/blob/main/Rank_of_a_matrix.ipynb\" target=\"_parent\"><img src=\"https://colab.research.google.com/assets/colab-badge.svg\" alt=\"Open In Colab\"/></a>"
      ]
    },
    {
      "cell_type": "markdown",
      "metadata": {
        "id": "Ta9NfPnPqXoD"
      },
      "source": [
        "Comparing the rank of a 3*3 matrix using the echolen form"
      ]
    },
    {
      "cell_type": "code",
      "metadata": {
        "id": "eHu7C0XUkX9p"
      },
      "source": [
        "import torch"
      ],
      "execution_count": null,
      "outputs": []
    },
    {
      "cell_type": "markdown",
      "metadata": {
        "id": "ozcLGmYQlk9C"
      },
      "source": [
        "Let us make a matrix of a size, say 3*3"
      ]
    },
    {
      "cell_type": "code",
      "metadata": {
        "colab": {
          "base_uri": "https://localhost:8080/"
        },
        "id": "cWarOrz4lrOE",
        "outputId": "f18cc65d-2ea5-41a9-ebeb-c06913840edd"
      },
      "source": [
        "a=torch.tensor([[2.,3,4],[5,4,3],[6,3,5]])\n",
        "print(a)"
      ],
      "execution_count": null,
      "outputs": [
        {
          "output_type": "execute_result",
          "data": {
            "text/plain": [
              "tensor([[2., 3., 4.],\n",
              "        [5., 4., 3.],\n",
              "        [6., 3., 5.]])"
            ]
          },
          "metadata": {},
          "execution_count": 12
        }
      ]
    },
    {
      "cell_type": "markdown",
      "metadata": {
        "id": "azEFKfCnl678"
      },
      "source": [
        "Let's now reduce it to the echlon form by making the first element 1"
      ]
    },
    {
      "cell_type": "code",
      "metadata": {
        "colab": {
          "base_uri": "https://localhost:8080/"
        },
        "id": "XMyAiN5MkcSu",
        "outputId": "916a3a9a-b93d-4368-bf7e-8d883cce4ea9"
      },
      "source": [
        "div=a[0][0]\n",
        "a[0]=a[0]/div\n",
        "print(a)"
      ],
      "execution_count": null,
      "outputs": [
        {
          "output_type": "stream",
          "name": "stdout",
          "text": [
            "tensor([[1.0000, 1.5000, 2.0000],\n",
            "        [5.0000, 4.0000, 3.0000],\n",
            "        [6.0000, 3.0000, 5.0000]])\n"
          ]
        }
      ]
    },
    {
      "cell_type": "markdown",
      "metadata": {
        "id": "uwwhUfnlmFJQ"
      },
      "source": [
        "Let's now make the element below the first element equal to zero."
      ]
    },
    {
      "cell_type": "code",
      "metadata": {
        "colab": {
          "base_uri": "https://localhost:8080/"
        },
        "id": "iWGXj7s4lirn",
        "outputId": "f98e399c-6802-454e-8e6d-d11bc90bfef4"
      },
      "source": [
        "a[1]=a[1]-a[1][0]*a[0]\n",
        "print(a)"
      ],
      "execution_count": null,
      "outputs": [
        {
          "output_type": "stream",
          "name": "stdout",
          "text": [
            "tensor([[ 1.0000,  1.5000,  2.0000],\n",
            "        [ 0.0000, -3.5000, -7.0000],\n",
            "        [ 6.0000,  3.0000,  5.0000]])\n"
          ]
        }
      ]
    },
    {
      "cell_type": "markdown",
      "metadata": {
        "id": "ZSGn4Kj0mLD2"
      },
      "source": [
        "Similarly we continue for the next element"
      ]
    },
    {
      "cell_type": "code",
      "metadata": {
        "colab": {
          "base_uri": "https://localhost:8080/"
        },
        "id": "X5hAnFCXmNxg",
        "outputId": "c590c63c-2324-4a6a-bc96-60c295d95ad3"
      },
      "source": [
        "a[2]=a[2]-a[2][0]*a[0]\n",
        "print(a)"
      ],
      "execution_count": null,
      "outputs": [
        {
          "output_type": "stream",
          "name": "stdout",
          "text": [
            "tensor([[ 1.0000,  1.5000,  2.0000],\n",
            "        [ 0.0000, -3.5000, -7.0000],\n",
            "        [ 0.0000, -6.0000, -7.0000]])\n"
          ]
        }
      ]
    },
    {
      "cell_type": "markdown",
      "metadata": {
        "id": "5yksfTqDmXFt"
      },
      "source": [
        "Now let's make the element at the last position equal to 0"
      ]
    },
    {
      "cell_type": "code",
      "metadata": {
        "colab": {
          "base_uri": "https://localhost:8080/"
        },
        "id": "oYbVOTITmdRy",
        "outputId": "929118eb-33e7-414e-b570-7a5d8e999913"
      },
      "source": [
        "a[2]=a[2]-(a[1]*a[2][1]/a[1][1])\n",
        "print(a)"
      ],
      "execution_count": null,
      "outputs": [
        {
          "output_type": "stream",
          "name": "stdout",
          "text": [
            "tensor([[ 1.0000,  1.5000,  2.0000],\n",
            "        [ 0.0000, -3.5000, -7.0000],\n",
            "        [ 0.0000,  0.0000,  5.0000]])\n"
          ]
        }
      ]
    },
    {
      "cell_type": "markdown",
      "metadata": {
        "id": "6Y-qhh5Mnoef"
      },
      "source": [
        "Calculate the rank of the matrix"
      ]
    },
    {
      "cell_type": "code",
      "metadata": {
        "colab": {
          "base_uri": "https://localhost:8080/"
        },
        "id": "jHLEDSklnrvh",
        "outputId": "8e371a97-7170-428a-ca36-0a277b61a1a4"
      },
      "source": [
        "if(torch.equal(a[2],torch.zeros(3))):\n",
        " print(\"rank=\",2)\n",
        "else:\n",
        "  print(\"rank=\",3)"
      ],
      "execution_count": 30,
      "outputs": [
        {
          "output_type": "stream",
          "name": "stdout",
          "text": [
            "rank= 3\n"
          ]
        }
      ]
    }
  ]
}